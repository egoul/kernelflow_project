{
 "cells": [
  {
   "cell_type": "code",
   "execution_count": 1,
   "metadata": {
    "collapsed": false,
    "deletable": true,
    "editable": true
   },
   "outputs": [
    {
     "name": "stderr",
     "output_type": "stream",
     "text": [
      "Using TensorFlow backend.\n"
     ]
    }
   ],
   "source": [
    "%matplotlib inline\n",
    "import tensorflow as tf\n",
    "import sys\n",
    "from keras.losses import binary_crossentropy\n",
    "from keras.layers import Dense, InputLayer\n",
    "from keras.models import Sequential\n",
    "\n",
    "sys.path.append(\"../kernelflow/\")\n",
    "\n",
    "import numpy as np\n",
    "from numpy.random import multivariate_normal as mvn\n",
    "import matplotlib.pyplot as plt\n",
    "import seaborn as sns\n",
    "\n",
    "sns.set_style(\"ticks\")\n",
    "sns.set_context(\"notebook\", font_scale=1.5, rc={\"lines.linewidth\": 2.5})\n",
    "\n",
    "from kernelflow.kernel_density import KernelDensity\n"
   ]
  },
  {
   "cell_type": "code",
   "execution_count": 2,
   "metadata": {
    "collapsed": false,
    "deletable": true,
    "editable": true
   },
   "outputs": [
    {
     "name": "stderr",
     "output_type": "stream",
     "text": [
      "/Users/edward/anaconda/lib/python3.6/site-packages/ipykernel_launcher.py:14: RuntimeWarning: covariance is not positive-semidefinite.\n",
      "  \n",
      "/Users/edward/anaconda/lib/python3.6/site-packages/ipykernel_launcher.py:15: RuntimeWarning: covariance is not positive-semidefinite.\n",
      "  from ipykernel import kernelapp as app\n",
      "/Users/edward/anaconda/lib/python3.6/site-packages/ipykernel_launcher.py:16: RuntimeWarning: covariance is not positive-semidefinite.\n",
      "  app.launch_new_instance()\n",
      "/Users/edward/anaconda/lib/python3.6/site-packages/ipykernel_launcher.py:17: RuntimeWarning: covariance is not positive-semidefinite.\n",
      "/Users/edward/anaconda/lib/python3.6/site-packages/ipykernel_launcher.py:19: RuntimeWarning: covariance is not positive-semidefinite.\n",
      "/Users/edward/anaconda/lib/python3.6/site-packages/ipykernel_launcher.py:20: RuntimeWarning: covariance is not positive-semidefinite.\n"
     ]
    }
   ],
   "source": [
    "# generate a large gaussian mixture dataset\n",
    "\n",
    "np.random.seed(7)\n",
    "\n",
    "s_size = 200000\n",
    "b_size = 200000\n",
    "\n",
    "s_mean = np.array([0.7,0.7])\n",
    "s_cov = np.array([[0.1,0.01],[0.03,0.2]])\n",
    "\n",
    "b_mean = np.array([0.2,0.2])\n",
    "b_cov = np.array([[3.,0.6],[0.01,1.0]])\n",
    "\n",
    "s_dat = mvn(s_mean, s_cov, s_size)\n",
    "b_dat = mvn(b_mean, b_cov, b_size)\n",
    "s_val = mvn(s_mean, s_cov, s_size)\n",
    "b_val = mvn(b_mean, b_cov, b_size)\n",
    "\n",
    "s_test = mvn(s_mean, s_cov, s_size)\n",
    "b_test = mvn(b_mean, b_cov, b_size)"
   ]
  },
  {
   "cell_type": "code",
   "execution_count": 3,
   "metadata": {
    "collapsed": true
   },
   "outputs": [],
   "source": [
    "#import dataset \n",
    "#rawdat = np.asarray(np.load('dan_data.npy'))\n",
    "#data = np.asarray([list(i)[3:] for i in rawdat])\n",
    "#target = np.asarray([i[0] for i in rawdat])\n",
    "#weights = np.asarray([i[2] for i in rawdat])\n",
    "\n",
    "#generate s_dat, b_dat, s_val, b_val"
   ]
  },
  {
   "cell_type": "code",
   "execution_count": 4,
   "metadata": {
    "collapsed": false,
    "deletable": true,
    "editable": true
   },
   "outputs": [],
   "source": [
    "# keras+tf dnn model\n",
    "\n",
    "n_features = 2\n",
    "thresh = 0.5\n",
    "\n",
    "m_input = tf.placeholder(tf.float32, shape=(None, n_features))\n",
    "s_weights = tf.placeholder(tf.float32, shape=(None, 1))\n",
    "sample_mass = tf.placeholder(tf.float32,shape=(1))\n",
    "\n",
    "model = Sequential()\n",
    "model.add(InputLayer(input_tensor=m_input,input_shape = (None, n_features))) \n",
    "model.add(Dense(32, activation='relu')) #two relu layers w/ 32 neurons\n",
    "model.add(Dense(32, activation='relu')) \n",
    "model.add(Dense(1, activation='sigmoid'))\n",
    "\n",
    "m_weights = model.get_weights()\n",
    "m_output = model.output\n",
    "\n",
    "labels = tf.placeholder(tf.float32, shape=(None, 1))\n",
    "\n",
    "mu_asimov = tf.placeholder(tf.float32, shape=(1,))\n",
    "mu_float = tf.placeholder(tf.float32, shape=(1,))"
   ]
  },
  {
   "cell_type": "code",
   "execution_count": 5,
   "metadata": {
    "collapsed": true,
    "deletable": true,
    "editable": true
   },
   "outputs": [],
   "source": [
    "# batch generators\n",
    "#can control proportion of signal and background \n",
    "#and the amount of signal per batch\n",
    "def random_split_gen(batch_size, sig_frac_batch=0.5,\n",
    "                     return_weights = True,\n",
    "                     s_sum_weight=100.,b_sum_weight=1000.):\n",
    "    \n",
    "    s_batch = int(batch_size*sig_frac_batch)\n",
    "    b_batch = batch_size-s_batch\n",
    "    n_s_batch = s_dat.shape[0]//s_batch\n",
    "    n_b_batch = b_dat.shape[0]//b_batch\n",
    "    n_batch = min(n_s_batch,n_b_batch)\n",
    "    yield n_batch # yield first nb_epoch first\n",
    "    while True:\n",
    "        s_ids = np.random.permutation(s_dat.shape[0]) #permutation of signal indices\n",
    "        b_ids= np.random.permutation(b_dat.shape[0]) #permutation of bg indices\n",
    "        for b_n in range(n_batch): #for each batch\n",
    "            b_input = np.zeros((batch_size,n_features)) #create empty placeholder input array\n",
    "            b_output = np.zeros((batch_size,1)) #create empty placeholder output array\n",
    "            b_weight = np.zeros((batch_size,1)) #create empty placeholder weight array\n",
    "            s_mask = s_ids[b_n*s_batch:(b_n+1)*s_batch] #get the current batch of signal indices\n",
    "            b_input[:s_batch] = s_dat[s_mask] #put current signal batch in input array\n",
    "            b_output[:s_batch] = 1. #put output for signal as 1\n",
    "            b_weight[:s_batch] = s_sum_weight/float(s_batch) #build weights\n",
    "            b_mask = b_ids[b_n*b_batch:(b_n+1)*b_batch] #get current batch of bg indices\n",
    "            b_input[s_batch:batch_size] = b_dat[b_mask] #put current bg batch in array, immediately after signal\n",
    "            b_output[s_batch:batch_size] = 0. #put output for bg as 0 \n",
    "            b_weight[s_batch:batch_size] = b_sum_weight/float(b_batch) #get bg weights\n",
    "            if return_weights:\n",
    "                yield (b_input, b_output, b_weight)\n",
    "            else:\n",
    "                yield (b_input, b_output)\n",
    "                "
   ]
  },
  {
   "cell_type": "code",
   "execution_count": 6,
   "metadata": {
    "collapsed": false,
    "deletable": true,
    "editable": true
   },
   "outputs": [],
   "source": [
    "init = tf.global_variables_initializer()"
   ]
  },
  {
   "cell_type": "code",
   "execution_count": 7,
   "metadata": {
    "collapsed": false,
    "deletable": true,
    "editable": true
   },
   "outputs": [],
   "source": [
    "bw = 0.001\n",
    "cut = 0.5\n",
    "is_sig = tf.cast(labels, dtype=tf.bool)\n",
    "is_bkg = tf.logical_not(is_sig)\n",
    "sig_output = tf.boolean_mask(m_output, is_sig) #grab the signal data\n",
    "bkg_output = tf.boolean_mask(m_output, is_bkg) #grab the bg data\n",
    "sig_weights = tf.boolean_mask(s_weights, is_sig) #grab the signal weights\n",
    "bkg_weights = tf.boolean_mask(s_weights, is_bkg) #grab the bg weights\n",
    "s_kde = KernelDensity(tf.reshape(sig_output,[-1]), #create a signal kernel density centered at the outputs and weighted \n",
    "                      [bw], sig_weights )\n",
    "b_kde = KernelDensity(tf.reshape(bkg_output,[-1]), #create a bg kernel density centered at the outputs and weighted\n",
    "                      [bw], bkg_weights)\n",
    "s_log_count = s_kde.log_cdf(cut) #get the log count for signal?\n",
    "b_log_count = b_kde.log_cdf(cut) #get the log count for bg\n",
    "\n",
    "#new additions\n",
    "kde1 = KernelDensity(tf.reshape(m_output,[-1]),[bw],weight=None)\n",
    "\n",
    "#get weights from kde1\n",
    "\n",
    "    \n",
    "# custom poison prob so it is defined for non-integers\n",
    "def log_prob_poisson(x,rate): \n",
    "    return x * tf.log(rate) - tf.lgamma(x + 1.)-rate\n",
    "\n",
    "# differenciable poisson asimov hessian based variance loss\n",
    "def asimov_likelihood(mu_asimov, mu_float, cut=0.5, bw=0.01):\n",
    "    is_sig = tf.cast(labels, dtype=tf.bool) #get signal and background output values and weights\n",
    "    is_bkg = tf.logical_not(is_sig)\n",
    "    sig_output = tf.boolean_mask(m_output, is_sig)\n",
    "    bkg_output = tf.boolean_mask(m_output, is_bkg)\n",
    "    sig_weights = tf.boolean_mask(s_weights, is_sig)\n",
    "    bkg_weights = tf.boolean_mask(s_weights, is_bkg)\n",
    "    s_kde = KernelDensity(tf.reshape(sig_output,[-1]), #get kernel densities objects for signal and background\n",
    "                          [bw], sig_weights )\n",
    "    b_kde = KernelDensity(tf.reshape(bkg_output,[-1]),\n",
    "                          [bw], bkg_weights)\n",
    "    s_log_count = s_kde.log_cdf(cut)\n",
    "    b_log_count = b_kde.log_cdf(cut)  \n",
    "    #calculate the likelihood\n",
    "    return log_prob_poisson(mu_asimov*tf.reduce_sum(sig_weights)*tf.exp(s_log_count)+ #x = mu_asimov * s + b\n",
    "                            tf.reduce_sum(bkg_weights)*tf.exp(b_log_count),\n",
    "                            mu_float*tf.reduce_sum(sig_weights)*tf.exp(s_log_count)+ #rate = mu_float * s + b\n",
    "                            tf.reduce_sum(bkg_weights)*tf.exp(b_log_count))\n",
    "\n",
    "#approximation of the significance with the significance,\n",
    "#only valid under specific conditions\n",
    "def simple_sig(cut=0.5, bw=0.01):\n",
    "    is_sig = tf.cast(labels, dtype=tf.bool) #grab signal and background outputs and weights, build corresponding kdes\n",
    "    is_bkg = tf.logical_not(is_sig)\n",
    "    sig_output = tf.boolean_mask(m_output, is_sig)\n",
    "    bkg_output = tf.boolean_mask(m_output, is_bkg)\n",
    "    sig_weights = tf.boolean_mask(s_weights, is_sig)\n",
    "    bkg_weights = tf.boolean_mask(s_weights, is_bkg)\n",
    "    s_kde = KernelDensity(tf.reshape(sig_output,[-1]),\n",
    "                          [bw], sig_weights )\n",
    "    b_kde = KernelDensity(tf.reshape(bkg_output,[-1]),\n",
    "                          [bw], bkg_weights)\n",
    "    s_log_count = s_kde.log_cdf(cut) \n",
    "    b_log_count = b_kde.log_cdf(cut)\n",
    "    return tf.reduce_sum(sig_weights)*tf.exp(s_log_count)/tf.sqrt(tf.reduce_sum(bkg_weights)*tf.exp(b_log_count))\n",
    "    \n",
    "\n",
    "simple_sig_no_cut = simple_sig(0.0,1e-6) #simple sig results from kde with different cuts\n",
    "simple_sig_half = simple_sig(0.5,1e-6)\n",
    "asimov_mu_ll = asimov_likelihood(mu_asimov,mu_float,cut=0.5, bw=0.1) #bw = 0.1 estimates from kde\n",
    "asimov_zero_ll = asimov_likelihood(mu_asimov,0,cut=0.5, bw=0.1)\n",
    "sig_ll_ratio = tf.sqrt(-2.*(asimov_zero_ll-asimov_mu_ll))[0]\n",
    "asimov_mu_ll_exact = asimov_likelihood(mu_asimov,mu_float,cut=0.5, bw=1.e-6)  #bw = 1e-6 estimates from kde\n",
    "asimov_zero_ll_exact = asimov_likelihood(mu_asimov,0,cut=0.5, bw=1.e-6)\n",
    "sig_ll_ratio_exact = tf.sqrt(-2.*(asimov_zero_ll_exact-asimov_mu_ll_exact))[0]\n",
    "\n",
    "#mu_ll is the fraction of signal, want to fit mu\n",
    "hess = - tf.hessians(asimov_mu_ll, mu_float)[0] #-hessian of asimov_mu_ll w.r.t mu_float\n",
    "inv_hess = tf.matrix_inverse(hess)[0] #inverse of -hessian\n",
    "\n",
    "#gaussian approximation of the significance\n",
    "sig_hess = tf.sqrt(mu_asimov**2/inv_hess)[0] # sqrt(mu^2/H^{-1})\n",
    "\n",
    "#creates a histogram of the data by integrating the kde from the datapoints in each bin\n",
    "def KDEHist(binpoints, kde):\n",
    "    #assume that binpoints includes start, end, and intermediates\n",
    "    counts = np.zeros(len(binpoints) - 1)\n",
    "    for i in range(len(binpoints) - 1):\n",
    "        counts[i] = kde.log_cdf(binpoints[i+1]) - kde.log_cdf(binpoints[i])\n",
    "    return (binpoints, counts)\n",
    "    "
   ]
  },
  {
   "cell_type": "code",
   "execution_count": 8,
   "metadata": {
    "collapsed": true,
    "deletable": true,
    "editable": true
   },
   "outputs": [],
   "source": [
    "def better_sig(s,b):\n",
    "    return np.sqrt(2.*((s+b)*np.log(1+s/b)-s))"
   ]
  },
  {
   "cell_type": "code",
   "execution_count": 20,
   "metadata": {
    "collapsed": false,
    "deletable": true,
    "editable": true
   },
   "outputs": [
    {
     "name": "stderr",
     "output_type": "stream",
     "text": [
      "/Users/edward/anaconda/lib/python3.6/site-packages/tensorflow/python/ops/gradients_impl.py:93: UserWarning: Converting sparse IndexedSlices to a dense Tensor of unknown shape. This may consume a large amount of memory.\n",
      "  \"Converting sparse IndexedSlices to a dense Tensor of unknown shape. \"\n"
     ]
    },
    {
     "ename": "InvalidArgumentError",
     "evalue": "Input is not invertible.\n\t [[Node: MatrixInverse = MatrixInverse[T=DT_FLOAT, adjoint=false, _device=\"/job:localhost/replica:0/task:0/cpu:0\"](Neg)]]\n\nCaused by op 'MatrixInverse', defined at:\n  File \"/Users/edward/anaconda/lib/python3.6/runpy.py\", line 193, in _run_module_as_main\n    \"__main__\", mod_spec)\n  File \"/Users/edward/anaconda/lib/python3.6/runpy.py\", line 85, in _run_code\n    exec(code, run_globals)\n  File \"/Users/edward/anaconda/lib/python3.6/site-packages/ipykernel_launcher.py\", line 16, in <module>\n    app.launch_new_instance()\n  File \"/Users/edward/anaconda/lib/python3.6/site-packages/traitlets/config/application.py\", line 658, in launch_instance\n    app.start()\n  File \"/Users/edward/anaconda/lib/python3.6/site-packages/ipykernel/kernelapp.py\", line 477, in start\n    ioloop.IOLoop.instance().start()\n  File \"/Users/edward/anaconda/lib/python3.6/site-packages/zmq/eventloop/ioloop.py\", line 177, in start\n    super(ZMQIOLoop, self).start()\n  File \"/Users/edward/anaconda/lib/python3.6/site-packages/tornado/ioloop.py\", line 887, in start\n    handler_func(fd_obj, events)\n  File \"/Users/edward/anaconda/lib/python3.6/site-packages/tornado/stack_context.py\", line 275, in null_wrapper\n    return fn(*args, **kwargs)\n  File \"/Users/edward/anaconda/lib/python3.6/site-packages/zmq/eventloop/zmqstream.py\", line 440, in _handle_events\n    self._handle_recv()\n  File \"/Users/edward/anaconda/lib/python3.6/site-packages/zmq/eventloop/zmqstream.py\", line 472, in _handle_recv\n    self._run_callback(callback, msg)\n  File \"/Users/edward/anaconda/lib/python3.6/site-packages/zmq/eventloop/zmqstream.py\", line 414, in _run_callback\n    callback(*args, **kwargs)\n  File \"/Users/edward/anaconda/lib/python3.6/site-packages/tornado/stack_context.py\", line 275, in null_wrapper\n    return fn(*args, **kwargs)\n  File \"/Users/edward/anaconda/lib/python3.6/site-packages/ipykernel/kernelbase.py\", line 276, in dispatcher\n    return self.dispatch_shell(stream, msg)\n  File \"/Users/edward/anaconda/lib/python3.6/site-packages/ipykernel/kernelbase.py\", line 228, in dispatch_shell\n    handler(stream, idents, msg)\n  File \"/Users/edward/anaconda/lib/python3.6/site-packages/ipykernel/kernelbase.py\", line 390, in execute_request\n    user_expressions, allow_stdin)\n  File \"/Users/edward/anaconda/lib/python3.6/site-packages/ipykernel/ipkernel.py\", line 196, in do_execute\n    res = shell.run_cell(code, store_history=store_history, silent=silent)\n  File \"/Users/edward/anaconda/lib/python3.6/site-packages/ipykernel/zmqshell.py\", line 533, in run_cell\n    return super(ZMQInteractiveShell, self).run_cell(*args, **kwargs)\n  File \"/Users/edward/anaconda/lib/python3.6/site-packages/IPython/core/interactiveshell.py\", line 2717, in run_cell\n    interactivity=interactivity, compiler=compiler, result=result)\n  File \"/Users/edward/anaconda/lib/python3.6/site-packages/IPython/core/interactiveshell.py\", line 2821, in run_ast_nodes\n    if self.run_code(code, result):\n  File \"/Users/edward/anaconda/lib/python3.6/site-packages/IPython/core/interactiveshell.py\", line 2881, in run_code\n    exec(code_obj, self.user_global_ns, self.user_ns)\n  File \"<ipython-input-7-fe7ae26984f9>\", line 75, in <module>\n    inv_hess = tf.matrix_inverse(hess)[0] #inverse of -hessian\n  File \"/Users/edward/anaconda/lib/python3.6/site-packages/tensorflow/python/ops/gen_linalg_ops.py\", line 307, in matrix_inverse\n    name=name)\n  File \"/Users/edward/anaconda/lib/python3.6/site-packages/tensorflow/python/framework/op_def_library.py\", line 767, in apply_op\n    op_def=op_def)\n  File \"/Users/edward/anaconda/lib/python3.6/site-packages/tensorflow/python/framework/ops.py\", line 2506, in create_op\n    original_op=self._default_original_op, op_def=op_def)\n  File \"/Users/edward/anaconda/lib/python3.6/site-packages/tensorflow/python/framework/ops.py\", line 1269, in __init__\n    self._traceback = _extract_stack()\n\nInvalidArgumentError (see above for traceback): Input is not invertible.\n\t [[Node: MatrixInverse = MatrixInverse[T=DT_FLOAT, adjoint=false, _device=\"/job:localhost/replica:0/task:0/cpu:0\"](Neg)]]\n",
     "output_type": "error",
     "traceback": [
      "\u001b[0;31m---------------------------------------------------------------------------\u001b[0m",
      "\u001b[0;31mInvalidArgumentError\u001b[0m                      Traceback (most recent call last)",
      "\u001b[0;32m/Users/edward/anaconda/lib/python3.6/site-packages/tensorflow/python/client/session.py\u001b[0m in \u001b[0;36m_do_call\u001b[0;34m(self, fn, *args)\u001b[0m\n\u001b[1;32m   1138\u001b[0m     \u001b[0;32mtry\u001b[0m\u001b[0;34m:\u001b[0m\u001b[0;34m\u001b[0m\u001b[0m\n\u001b[0;32m-> 1139\u001b[0;31m       \u001b[0;32mreturn\u001b[0m \u001b[0mfn\u001b[0m\u001b[0;34m(\u001b[0m\u001b[0;34m*\u001b[0m\u001b[0margs\u001b[0m\u001b[0;34m)\u001b[0m\u001b[0;34m\u001b[0m\u001b[0m\n\u001b[0m\u001b[1;32m   1140\u001b[0m     \u001b[0;32mexcept\u001b[0m \u001b[0merrors\u001b[0m\u001b[0;34m.\u001b[0m\u001b[0mOpError\u001b[0m \u001b[0;32mas\u001b[0m \u001b[0me\u001b[0m\u001b[0;34m:\u001b[0m\u001b[0;34m\u001b[0m\u001b[0m\n",
      "\u001b[0;32m/Users/edward/anaconda/lib/python3.6/site-packages/tensorflow/python/client/session.py\u001b[0m in \u001b[0;36m_run_fn\u001b[0;34m(session, feed_dict, fetch_list, target_list, options, run_metadata)\u001b[0m\n\u001b[1;32m   1120\u001b[0m                                  \u001b[0mfeed_dict\u001b[0m\u001b[0;34m,\u001b[0m \u001b[0mfetch_list\u001b[0m\u001b[0;34m,\u001b[0m \u001b[0mtarget_list\u001b[0m\u001b[0;34m,\u001b[0m\u001b[0;34m\u001b[0m\u001b[0m\n\u001b[0;32m-> 1121\u001b[0;31m                                  status, run_metadata)\n\u001b[0m\u001b[1;32m   1122\u001b[0m \u001b[0;34m\u001b[0m\u001b[0m\n",
      "\u001b[0;32m/Users/edward/anaconda/lib/python3.6/contextlib.py\u001b[0m in \u001b[0;36m__exit__\u001b[0;34m(self, type, value, traceback)\u001b[0m\n\u001b[1;32m     88\u001b[0m             \u001b[0;32mtry\u001b[0m\u001b[0;34m:\u001b[0m\u001b[0;34m\u001b[0m\u001b[0m\n\u001b[0;32m---> 89\u001b[0;31m                 \u001b[0mnext\u001b[0m\u001b[0;34m(\u001b[0m\u001b[0mself\u001b[0m\u001b[0;34m.\u001b[0m\u001b[0mgen\u001b[0m\u001b[0;34m)\u001b[0m\u001b[0;34m\u001b[0m\u001b[0m\n\u001b[0m\u001b[1;32m     90\u001b[0m             \u001b[0;32mexcept\u001b[0m \u001b[0mStopIteration\u001b[0m\u001b[0;34m:\u001b[0m\u001b[0;34m\u001b[0m\u001b[0m\n",
      "\u001b[0;32m/Users/edward/anaconda/lib/python3.6/site-packages/tensorflow/python/framework/errors_impl.py\u001b[0m in \u001b[0;36mraise_exception_on_not_ok_status\u001b[0;34m()\u001b[0m\n\u001b[1;32m    465\u001b[0m           \u001b[0mcompat\u001b[0m\u001b[0;34m.\u001b[0m\u001b[0mas_text\u001b[0m\u001b[0;34m(\u001b[0m\u001b[0mpywrap_tensorflow\u001b[0m\u001b[0;34m.\u001b[0m\u001b[0mTF_Message\u001b[0m\u001b[0;34m(\u001b[0m\u001b[0mstatus\u001b[0m\u001b[0;34m)\u001b[0m\u001b[0;34m)\u001b[0m\u001b[0;34m,\u001b[0m\u001b[0;34m\u001b[0m\u001b[0m\n\u001b[0;32m--> 466\u001b[0;31m           pywrap_tensorflow.TF_GetCode(status))\n\u001b[0m\u001b[1;32m    467\u001b[0m   \u001b[0;32mfinally\u001b[0m\u001b[0;34m:\u001b[0m\u001b[0;34m\u001b[0m\u001b[0m\n",
      "\u001b[0;31mInvalidArgumentError\u001b[0m: Input is not invertible.\n\t [[Node: MatrixInverse = MatrixInverse[T=DT_FLOAT, adjoint=false, _device=\"/job:localhost/replica:0/task:0/cpu:0\"](Neg)]]",
      "\nDuring handling of the above exception, another exception occurred:\n",
      "\u001b[0;31mInvalidArgumentError\u001b[0m                      Traceback (most recent call last)",
      "\u001b[0;32m<ipython-input-20-1f666617765b>\u001b[0m in \u001b[0;36m<module>\u001b[0;34m()\u001b[0m\n\u001b[1;32m     41\u001b[0m             \u001b[0msig_ll_ratio_arr\u001b[0m\u001b[0;34m[\u001b[0m\u001b[0me_n\u001b[0m\u001b[0;34m,\u001b[0m\u001b[0mb_n\u001b[0m\u001b[0;34m]\u001b[0m \u001b[0;34m=\u001b[0m \u001b[0msig_ll_ratio\u001b[0m\u001b[0;34m.\u001b[0m\u001b[0meval\u001b[0m\u001b[0;34m(\u001b[0m\u001b[0mvar_dict\u001b[0m\u001b[0;34m)\u001b[0m\u001b[0;34m\u001b[0m\u001b[0m\n\u001b[1;32m     42\u001b[0m             \u001b[0msig_ll_ratio_exact_arr\u001b[0m\u001b[0;34m[\u001b[0m\u001b[0me_n\u001b[0m\u001b[0;34m,\u001b[0m\u001b[0mb_n\u001b[0m\u001b[0;34m]\u001b[0m \u001b[0;34m=\u001b[0m \u001b[0msig_ll_ratio_exact\u001b[0m\u001b[0;34m.\u001b[0m\u001b[0meval\u001b[0m\u001b[0;34m(\u001b[0m\u001b[0mvar_dict\u001b[0m\u001b[0;34m)\u001b[0m\u001b[0;34m\u001b[0m\u001b[0m\n\u001b[0;32m---> 43\u001b[0;31m             \u001b[0msig_hess_arr\u001b[0m\u001b[0;34m[\u001b[0m\u001b[0me_n\u001b[0m\u001b[0;34m,\u001b[0m\u001b[0mb_n\u001b[0m\u001b[0;34m]\u001b[0m \u001b[0;34m=\u001b[0m \u001b[0msig_hess\u001b[0m\u001b[0;34m.\u001b[0m\u001b[0meval\u001b[0m\u001b[0;34m(\u001b[0m\u001b[0mvar_dict\u001b[0m\u001b[0;34m)\u001b[0m\u001b[0;34m\u001b[0m\u001b[0m\n\u001b[0m\u001b[1;32m     44\u001b[0m         \u001b[0mpred_val\u001b[0m \u001b[0;34m=\u001b[0m \u001b[0mm_output\u001b[0m\u001b[0;34m.\u001b[0m\u001b[0meval\u001b[0m\u001b[0;34m(\u001b[0m\u001b[0;34m{\u001b[0m\u001b[0mm_input\u001b[0m\u001b[0;34m:\u001b[0m \u001b[0mv_input\u001b[0m\u001b[0;34m}\u001b[0m\u001b[0;34m)\u001b[0m\u001b[0;34m\u001b[0m\u001b[0m\n\u001b[1;32m     45\u001b[0m         \u001b[0;32mfor\u001b[0m \u001b[0mval\u001b[0m \u001b[0;32min\u001b[0m \u001b[0mpred_val\u001b[0m\u001b[0;34m:\u001b[0m\u001b[0;34m\u001b[0m\u001b[0m\n",
      "\u001b[0;32m/Users/edward/anaconda/lib/python3.6/site-packages/tensorflow/python/framework/ops.py\u001b[0m in \u001b[0;36meval\u001b[0;34m(self, feed_dict, session)\u001b[0m\n\u001b[1;32m    604\u001b[0m \u001b[0;34m\u001b[0m\u001b[0m\n\u001b[1;32m    605\u001b[0m     \"\"\"\n\u001b[0;32m--> 606\u001b[0;31m     \u001b[0;32mreturn\u001b[0m \u001b[0m_eval_using_default_session\u001b[0m\u001b[0;34m(\u001b[0m\u001b[0mself\u001b[0m\u001b[0;34m,\u001b[0m \u001b[0mfeed_dict\u001b[0m\u001b[0;34m,\u001b[0m \u001b[0mself\u001b[0m\u001b[0;34m.\u001b[0m\u001b[0mgraph\u001b[0m\u001b[0;34m,\u001b[0m \u001b[0msession\u001b[0m\u001b[0;34m)\u001b[0m\u001b[0;34m\u001b[0m\u001b[0m\n\u001b[0m\u001b[1;32m    607\u001b[0m \u001b[0;34m\u001b[0m\u001b[0m\n\u001b[1;32m    608\u001b[0m \u001b[0;34m\u001b[0m\u001b[0m\n",
      "\u001b[0;32m/Users/edward/anaconda/lib/python3.6/site-packages/tensorflow/python/framework/ops.py\u001b[0m in \u001b[0;36m_eval_using_default_session\u001b[0;34m(tensors, feed_dict, graph, session)\u001b[0m\n\u001b[1;32m   3926\u001b[0m                        \u001b[0;34m\"the tensor's graph is different from the session's \"\u001b[0m\u001b[0;34m\u001b[0m\u001b[0m\n\u001b[1;32m   3927\u001b[0m                        \"graph.\")\n\u001b[0;32m-> 3928\u001b[0;31m   \u001b[0;32mreturn\u001b[0m \u001b[0msession\u001b[0m\u001b[0;34m.\u001b[0m\u001b[0mrun\u001b[0m\u001b[0;34m(\u001b[0m\u001b[0mtensors\u001b[0m\u001b[0;34m,\u001b[0m \u001b[0mfeed_dict\u001b[0m\u001b[0;34m)\u001b[0m\u001b[0;34m\u001b[0m\u001b[0m\n\u001b[0m\u001b[1;32m   3929\u001b[0m \u001b[0;34m\u001b[0m\u001b[0m\n\u001b[1;32m   3930\u001b[0m \u001b[0;34m\u001b[0m\u001b[0m\n",
      "\u001b[0;32m/Users/edward/anaconda/lib/python3.6/site-packages/tensorflow/python/client/session.py\u001b[0m in \u001b[0;36mrun\u001b[0;34m(self, fetches, feed_dict, options, run_metadata)\u001b[0m\n\u001b[1;32m    787\u001b[0m     \u001b[0;32mtry\u001b[0m\u001b[0;34m:\u001b[0m\u001b[0;34m\u001b[0m\u001b[0m\n\u001b[1;32m    788\u001b[0m       result = self._run(None, fetches, feed_dict, options_ptr,\n\u001b[0;32m--> 789\u001b[0;31m                          run_metadata_ptr)\n\u001b[0m\u001b[1;32m    790\u001b[0m       \u001b[0;32mif\u001b[0m \u001b[0mrun_metadata\u001b[0m\u001b[0;34m:\u001b[0m\u001b[0;34m\u001b[0m\u001b[0m\n\u001b[1;32m    791\u001b[0m         \u001b[0mproto_data\u001b[0m \u001b[0;34m=\u001b[0m \u001b[0mtf_session\u001b[0m\u001b[0;34m.\u001b[0m\u001b[0mTF_GetBuffer\u001b[0m\u001b[0;34m(\u001b[0m\u001b[0mrun_metadata_ptr\u001b[0m\u001b[0;34m)\u001b[0m\u001b[0;34m\u001b[0m\u001b[0m\n",
      "\u001b[0;32m/Users/edward/anaconda/lib/python3.6/site-packages/tensorflow/python/client/session.py\u001b[0m in \u001b[0;36m_run\u001b[0;34m(self, handle, fetches, feed_dict, options, run_metadata)\u001b[0m\n\u001b[1;32m    995\u001b[0m     \u001b[0;32mif\u001b[0m \u001b[0mfinal_fetches\u001b[0m \u001b[0;32mor\u001b[0m \u001b[0mfinal_targets\u001b[0m\u001b[0;34m:\u001b[0m\u001b[0;34m\u001b[0m\u001b[0m\n\u001b[1;32m    996\u001b[0m       results = self._do_run(handle, final_targets, final_fetches,\n\u001b[0;32m--> 997\u001b[0;31m                              feed_dict_string, options, run_metadata)\n\u001b[0m\u001b[1;32m    998\u001b[0m     \u001b[0;32melse\u001b[0m\u001b[0;34m:\u001b[0m\u001b[0;34m\u001b[0m\u001b[0m\n\u001b[1;32m    999\u001b[0m       \u001b[0mresults\u001b[0m \u001b[0;34m=\u001b[0m \u001b[0;34m[\u001b[0m\u001b[0;34m]\u001b[0m\u001b[0;34m\u001b[0m\u001b[0m\n",
      "\u001b[0;32m/Users/edward/anaconda/lib/python3.6/site-packages/tensorflow/python/client/session.py\u001b[0m in \u001b[0;36m_do_run\u001b[0;34m(self, handle, target_list, fetch_list, feed_dict, options, run_metadata)\u001b[0m\n\u001b[1;32m   1130\u001b[0m     \u001b[0;32mif\u001b[0m \u001b[0mhandle\u001b[0m \u001b[0;32mis\u001b[0m \u001b[0;32mNone\u001b[0m\u001b[0;34m:\u001b[0m\u001b[0;34m\u001b[0m\u001b[0m\n\u001b[1;32m   1131\u001b[0m       return self._do_call(_run_fn, self._session, feed_dict, fetch_list,\n\u001b[0;32m-> 1132\u001b[0;31m                            target_list, options, run_metadata)\n\u001b[0m\u001b[1;32m   1133\u001b[0m     \u001b[0;32melse\u001b[0m\u001b[0;34m:\u001b[0m\u001b[0;34m\u001b[0m\u001b[0m\n\u001b[1;32m   1134\u001b[0m       return self._do_call(_prun_fn, self._session, handle, feed_dict,\n",
      "\u001b[0;32m/Users/edward/anaconda/lib/python3.6/site-packages/tensorflow/python/client/session.py\u001b[0m in \u001b[0;36m_do_call\u001b[0;34m(self, fn, *args)\u001b[0m\n\u001b[1;32m   1150\u001b[0m         \u001b[0;32mexcept\u001b[0m \u001b[0mKeyError\u001b[0m\u001b[0;34m:\u001b[0m\u001b[0;34m\u001b[0m\u001b[0m\n\u001b[1;32m   1151\u001b[0m           \u001b[0;32mpass\u001b[0m\u001b[0;34m\u001b[0m\u001b[0m\n\u001b[0;32m-> 1152\u001b[0;31m       \u001b[0;32mraise\u001b[0m \u001b[0mtype\u001b[0m\u001b[0;34m(\u001b[0m\u001b[0me\u001b[0m\u001b[0;34m)\u001b[0m\u001b[0;34m(\u001b[0m\u001b[0mnode_def\u001b[0m\u001b[0;34m,\u001b[0m \u001b[0mop\u001b[0m\u001b[0;34m,\u001b[0m \u001b[0mmessage\u001b[0m\u001b[0;34m)\u001b[0m\u001b[0;34m\u001b[0m\u001b[0m\n\u001b[0m\u001b[1;32m   1153\u001b[0m \u001b[0;34m\u001b[0m\u001b[0m\n\u001b[1;32m   1154\u001b[0m   \u001b[0;32mdef\u001b[0m \u001b[0m_extend_graph\u001b[0m\u001b[0;34m(\u001b[0m\u001b[0mself\u001b[0m\u001b[0;34m)\u001b[0m\u001b[0;34m:\u001b[0m\u001b[0;34m\u001b[0m\u001b[0m\n",
      "\u001b[0;31mInvalidArgumentError\u001b[0m: Input is not invertible.\n\t [[Node: MatrixInverse = MatrixInverse[T=DT_FLOAT, adjoint=false, _device=\"/job:localhost/replica:0/task:0/cpu:0\"](Neg)]]\n\nCaused by op 'MatrixInverse', defined at:\n  File \"/Users/edward/anaconda/lib/python3.6/runpy.py\", line 193, in _run_module_as_main\n    \"__main__\", mod_spec)\n  File \"/Users/edward/anaconda/lib/python3.6/runpy.py\", line 85, in _run_code\n    exec(code, run_globals)\n  File \"/Users/edward/anaconda/lib/python3.6/site-packages/ipykernel_launcher.py\", line 16, in <module>\n    app.launch_new_instance()\n  File \"/Users/edward/anaconda/lib/python3.6/site-packages/traitlets/config/application.py\", line 658, in launch_instance\n    app.start()\n  File \"/Users/edward/anaconda/lib/python3.6/site-packages/ipykernel/kernelapp.py\", line 477, in start\n    ioloop.IOLoop.instance().start()\n  File \"/Users/edward/anaconda/lib/python3.6/site-packages/zmq/eventloop/ioloop.py\", line 177, in start\n    super(ZMQIOLoop, self).start()\n  File \"/Users/edward/anaconda/lib/python3.6/site-packages/tornado/ioloop.py\", line 887, in start\n    handler_func(fd_obj, events)\n  File \"/Users/edward/anaconda/lib/python3.6/site-packages/tornado/stack_context.py\", line 275, in null_wrapper\n    return fn(*args, **kwargs)\n  File \"/Users/edward/anaconda/lib/python3.6/site-packages/zmq/eventloop/zmqstream.py\", line 440, in _handle_events\n    self._handle_recv()\n  File \"/Users/edward/anaconda/lib/python3.6/site-packages/zmq/eventloop/zmqstream.py\", line 472, in _handle_recv\n    self._run_callback(callback, msg)\n  File \"/Users/edward/anaconda/lib/python3.6/site-packages/zmq/eventloop/zmqstream.py\", line 414, in _run_callback\n    callback(*args, **kwargs)\n  File \"/Users/edward/anaconda/lib/python3.6/site-packages/tornado/stack_context.py\", line 275, in null_wrapper\n    return fn(*args, **kwargs)\n  File \"/Users/edward/anaconda/lib/python3.6/site-packages/ipykernel/kernelbase.py\", line 276, in dispatcher\n    return self.dispatch_shell(stream, msg)\n  File \"/Users/edward/anaconda/lib/python3.6/site-packages/ipykernel/kernelbase.py\", line 228, in dispatch_shell\n    handler(stream, idents, msg)\n  File \"/Users/edward/anaconda/lib/python3.6/site-packages/ipykernel/kernelbase.py\", line 390, in execute_request\n    user_expressions, allow_stdin)\n  File \"/Users/edward/anaconda/lib/python3.6/site-packages/ipykernel/ipkernel.py\", line 196, in do_execute\n    res = shell.run_cell(code, store_history=store_history, silent=silent)\n  File \"/Users/edward/anaconda/lib/python3.6/site-packages/ipykernel/zmqshell.py\", line 533, in run_cell\n    return super(ZMQInteractiveShell, self).run_cell(*args, **kwargs)\n  File \"/Users/edward/anaconda/lib/python3.6/site-packages/IPython/core/interactiveshell.py\", line 2717, in run_cell\n    interactivity=interactivity, compiler=compiler, result=result)\n  File \"/Users/edward/anaconda/lib/python3.6/site-packages/IPython/core/interactiveshell.py\", line 2821, in run_ast_nodes\n    if self.run_code(code, result):\n  File \"/Users/edward/anaconda/lib/python3.6/site-packages/IPython/core/interactiveshell.py\", line 2881, in run_code\n    exec(code_obj, self.user_global_ns, self.user_ns)\n  File \"<ipython-input-7-fe7ae26984f9>\", line 75, in <module>\n    inv_hess = tf.matrix_inverse(hess)[0] #inverse of -hessian\n  File \"/Users/edward/anaconda/lib/python3.6/site-packages/tensorflow/python/ops/gen_linalg_ops.py\", line 307, in matrix_inverse\n    name=name)\n  File \"/Users/edward/anaconda/lib/python3.6/site-packages/tensorflow/python/framework/op_def_library.py\", line 767, in apply_op\n    op_def=op_def)\n  File \"/Users/edward/anaconda/lib/python3.6/site-packages/tensorflow/python/framework/ops.py\", line 2506, in create_op\n    original_op=self._default_original_op, op_def=op_def)\n  File \"/Users/edward/anaconda/lib/python3.6/site-packages/tensorflow/python/framework/ops.py\", line 1269, in __init__\n    self._traceback = _extract_stack()\n\nInvalidArgumentError (see above for traceback): Input is not invertible.\n\t [[Node: MatrixInverse = MatrixInverse[T=DT_FLOAT, adjoint=false, _device=\"/job:localhost/replica:0/task:0/cpu:0\"](Neg)]]\n"
     ]
    }
   ],
   "source": [
    "asimov_sig_loss = - sig_ll_ratio\n",
    "#train to maximize sig ll ratio\n",
    "train_asimov_sig = tf.train.GradientDescentOptimizer(0.01).minimize(asimov_sig_loss, var_list=model.weights)\n",
    "\n",
    "n_epoch = 1\n",
    "rs_gen = random_split_gen(128)\n",
    "n_batch = rs_gen.__next__()\n",
    "\n",
    "rs_val_gen = random_split_gen(8192) #batch size of 8192\n",
    "n_batch_val = rs_val_gen.__next__()\n",
    "v_input, v_output, v_weight = rs_val_gen.__next__()\n",
    "v_is_sig = (v_output == 1) #get masks\n",
    "v_is_bkg = (v_output == 0)\n",
    "\n",
    "wps = np.linspace(0.1,0.9,20)\n",
    "\n",
    "# initialize variables \n",
    "\n",
    "simple_sig_arr = np.zeros((n_epoch,n_batch))\n",
    "sig_ll_ratio_arr = np.zeros((n_epoch,n_batch))\n",
    "sig_ll_ratio_exact_arr = np.zeros((n_epoch,n_batch))\n",
    "sig_hess_arr = np.zeros((n_epoch,n_batch))\n",
    "sig_ll_ratio_val_arr = np.zeros((n_epoch, wps.shape[0]))\n",
    "#sb_test = np.zeros(len(s_val) + len(b_val))\n",
    "#sb_pred = np.zeros(len(s_val) + len(b_val))\n",
    "sb_test = []\n",
    "sb_pred = []\n",
    "\n",
    "with tf.Session() as sess:\n",
    "    sess.run([init])\n",
    "    for e_n in range(n_epoch):\n",
    "        for b_n in range(n_batch):\n",
    "            b_input, b_output, b_weight = rs_gen.__next__()\n",
    "            var_dict = {m_input : b_input,\n",
    "                labels: b_output,\n",
    "                s_weights : b_weight,\n",
    "                mu_asimov : [1.],\n",
    "                mu_float : [1.]}\n",
    "            sess.run([train_asimov_sig], var_dict)\n",
    "            simple_sig_arr[e_n,b_n] = simple_sig_half.eval(var_dict)\n",
    "            sig_ll_ratio_arr[e_n,b_n] = sig_ll_ratio.eval(var_dict)\n",
    "            sig_ll_ratio_exact_arr[e_n,b_n] = sig_ll_ratio_exact.eval(var_dict)\n",
    "            sig_hess_arr[e_n,b_n] = sig_hess.eval(var_dict)\n",
    "        pred_val = m_output.eval({m_input: v_input})\n",
    "        for val in pred_val:\n",
    "            sb_pred.append(val)\n",
    "        for dat in v_input:\n",
    "            sb_test.append(dat)\n",
    "        for w_n, wp in enumerate(wps):\n",
    "            s = np.sum(v_weight[v_is_sig][pred_val[v_is_sig] > wp])\n",
    "            b = np.sum(v_weight[v_is_bkg][pred_val[v_is_bkg] > wp])\n",
    "            sig_ll_ratio_val_arr[e_n,w_n] = better_sig(s,b)\n",
    "    sb_test = np.asarray(sb_test)\n",
    "    predictions = np.asarray(sb_pred)\n",
    "    print(predictions)\n",
    "    #create first KDE\n",
    "    #this KDE1 line is giving trouble, think its because predictions is not tensor\n",
    "    KDE1 = KernelDensity(predictions,[bw],weight=None)\n",
    "    #get weights\n",
    "    KDE1_w = np.zeros(len(sb_test) + len())\n",
    "    for i, val in enumerate(sb_test):\n",
    "        KDE_1[i] = KDE.log_cdf(predictions[i])\n",
    "    #get mass - for purposes of gaussian demonstration assume it's the 2nd coordinate but really it will be different\n",
    "    masses = np.asarray([val[1] for val in sb_test])\n",
    "    #get sign, bg points (points > cutoff)\n",
    "    sig = np.asarray([pair[1] for pair in enumerate(sb_test) if predictions[pair[0]] >= cut])\n",
    "    sig_weights = np.asarray([KDE1_w[pair[0]] for pair in enumerate(sb_test) if predictions[pair[0]] >= cut])\n",
    "    bg = np.asarray([pair[1] for pair in enumerate(sb_test) if predictions[pair[0]] < cut])\n",
    "    bg_weights = np.asarray([KDE1_w[pair[0]] for pair in enumerate(sb_test) if predictions[pair[0]] < cut])\n",
    "    KDE2s = KernelDensity(tf.reshape(sig, [-1]),[bw],weight=sig_weights)\n",
    "    KDE2b = KernelDensity(tf.reshape(bg, [-1]),[bw],weight=bg_weights)\n",
    "    \n",
    "    #create hist function (bin = [b_i, b_i+1], w = KDE2.log_cdf(b_i+1) - KDE2.log_cdf(b_i))\n",
    "    bin_width = 10\n",
    "    start = 0\n",
    "    end = np.amax(masses) + bin_width\n",
    "    binpoints = np.arange(0,end,bin_width)\n",
    "    sig_hist = KDEHist(binpoints,KDE2s) \n",
    "    bg_hist = KDEHist(binpoints, KDE2b)\n",
    "    plt.clf()\n",
    "    plt.bar(sig_hist[0],sig_hist[1])\n",
    "    plt.show()\n",
    "        \n",
    "        "
   ]
  },
  {
   "cell_type": "code",
   "execution_count": null,
   "metadata": {
    "collapsed": false,
    "deletable": true,
    "editable": true
   },
   "outputs": [],
   "source": [
    "fig, axs = plt.subplots(1,2, figsize=(20,10))\n",
    "\n",
    "axs[0].plot(np.arange(n_batch*n_epoch), bce_arr.flatten())\n",
    "\n",
    "axs[1].plot(np.arange(n_batch*n_epoch), sig_ll_ratio_arr.flatten(), alpha=0.5,label=\"Asimov likelihood\")\n",
    "axs[1].plot(np.arange(n_batch*n_epoch), sig_hess_arr.flatten(),alpha=0.5,label=\"Gaussian approximation\")\n",
    "axs[1].plot(np.arange(n_batch*n_epoch), sig_ll_ratio_exact_arr.flatten(),alpha=0.5,label=\"Likelihood Ratio Approximation\")\n",
    "plt.legend()\n",
    "\n",
    "fig, ax = plt.subplots(1,1, figsize=(10,10))\n",
    "\n",
    "ax.plot(np.arange(n_epoch), np.nanmax(sig_ll_ratio_val_arr,axis=1),alpha=0.5)\n",
    "#ax.set_ylim(7.,7.2)"
   ]
  },
  {
   "cell_type": "code",
   "execution_count": null,
   "metadata": {
    "collapsed": true
   },
   "outputs": [],
   "source": []
  }
 ],
 "metadata": {
  "kernelspec": {
   "display_name": "Python 3",
   "language": "python",
   "name": "python3"
  },
  "language_info": {
   "codemirror_mode": {
    "name": "ipython",
    "version": 3
   },
   "file_extension": ".py",
   "mimetype": "text/x-python",
   "name": "python",
   "nbconvert_exporter": "python",
   "pygments_lexer": "ipython3",
   "version": "3.6.0"
  }
 },
 "nbformat": 4,
 "nbformat_minor": 2
}
